{
  "nbformat": 4,
  "nbformat_minor": 0,
  "metadata": {
    "colab": {
      "name": "Untitled8.ipynb",
      "provenance": [],
      "toc_visible": true,
      "authorship_tag": "ABX9TyOH/R1DZZRplO4pEZogpJ1a",
      "include_colab_link": true
    },
    "kernelspec": {
      "name": "python3",
      "display_name": "Python 3"
    }
  },
  "cells": [
    {
      "cell_type": "markdown",
      "metadata": {
        "id": "view-in-github",
        "colab_type": "text"
      },
      "source": [
        "<a href=\"https://colab.research.google.com/github/santiagorestrepoo09/Learntorecycle/blob/master/Untitled8.ipynb\" target=\"_parent\"><img src=\"https://colab.research.google.com/assets/colab-badge.svg\" alt=\"Open In Colab\"/></a>"
      ]
    },
    {
      "cell_type": "code",
      "metadata": {
        "id": "cxmTUCPMTtCo",
        "colab_type": "code",
        "colab": {
          "resources": {
            "http://localhost:8080/nbextensions/google.colab/files.js": {
              "data": "Ly8gQ29weXJpZ2h0IDIwMTcgR29vZ2xlIExMQwovLwovLyBMaWNlbnNlZCB1bmRlciB0aGUgQXBhY2hlIExpY2Vuc2UsIFZlcnNpb24gMi4wICh0aGUgIkxpY2Vuc2UiKTsKLy8geW91IG1heSBub3QgdXNlIHRoaXMgZmlsZSBleGNlcHQgaW4gY29tcGxpYW5jZSB3aXRoIHRoZSBMaWNlbnNlLgovLyBZb3UgbWF5IG9idGFpbiBhIGNvcHkgb2YgdGhlIExpY2Vuc2UgYXQKLy8KLy8gICAgICBodHRwOi8vd3d3LmFwYWNoZS5vcmcvbGljZW5zZXMvTElDRU5TRS0yLjAKLy8KLy8gVW5sZXNzIHJlcXVpcmVkIGJ5IGFwcGxpY2FibGUgbGF3IG9yIGFncmVlZCB0byBpbiB3cml0aW5nLCBzb2Z0d2FyZQovLyBkaXN0cmlidXRlZCB1bmRlciB0aGUgTGljZW5zZSBpcyBkaXN0cmlidXRlZCBvbiBhbiAiQVMgSVMiIEJBU0lTLAovLyBXSVRIT1VUIFdBUlJBTlRJRVMgT1IgQ09ORElUSU9OUyBPRiBBTlkgS0lORCwgZWl0aGVyIGV4cHJlc3Mgb3IgaW1wbGllZC4KLy8gU2VlIHRoZSBMaWNlbnNlIGZvciB0aGUgc3BlY2lmaWMgbGFuZ3VhZ2UgZ292ZXJuaW5nIHBlcm1pc3Npb25zIGFuZAovLyBsaW1pdGF0aW9ucyB1bmRlciB0aGUgTGljZW5zZS4KCi8qKgogKiBAZmlsZW92ZXJ2aWV3IEhlbHBlcnMgZm9yIGdvb2dsZS5jb2xhYiBQeXRob24gbW9kdWxlLgogKi8KKGZ1bmN0aW9uKHNjb3BlKSB7CmZ1bmN0aW9uIHNwYW4odGV4dCwgc3R5bGVBdHRyaWJ1dGVzID0ge30pIHsKICBjb25zdCBlbGVtZW50ID0gZG9jdW1lbnQuY3JlYXRlRWxlbWVudCgnc3BhbicpOwogIGVsZW1lbnQudGV4dENvbnRlbnQgPSB0ZXh0OwogIGZvciAoY29uc3Qga2V5IG9mIE9iamVjdC5rZXlzKHN0eWxlQXR0cmlidXRlcykpIHsKICAgIGVsZW1lbnQuc3R5bGVba2V5XSA9IHN0eWxlQXR0cmlidXRlc1trZXldOwogIH0KICByZXR1cm4gZWxlbWVudDsKfQoKLy8gTWF4IG51bWJlciBvZiBieXRlcyB3aGljaCB3aWxsIGJlIHVwbG9hZGVkIGF0IGEgdGltZS4KY29uc3QgTUFYX1BBWUxPQURfU0laRSA9IDEwMCAqIDEwMjQ7Ci8vIE1heCBhbW91bnQgb2YgdGltZSB0byBibG9jayB3YWl0aW5nIGZvciB0aGUgdXNlci4KY29uc3QgRklMRV9DSEFOR0VfVElNRU9VVF9NUyA9IDMwICogMTAwMDsKCmZ1bmN0aW9uIF91cGxvYWRGaWxlcyhpbnB1dElkLCBvdXRwdXRJZCkgewogIGNvbnN0IHN0ZXBzID0gdXBsb2FkRmlsZXNTdGVwKGlucHV0SWQsIG91dHB1dElkKTsKICBjb25zdCBvdXRwdXRFbGVtZW50ID0gZG9jdW1lbnQuZ2V0RWxlbWVudEJ5SWQob3V0cHV0SWQpOwogIC8vIENhY2hlIHN0ZXBzIG9uIHRoZSBvdXRwdXRFbGVtZW50IHRvIG1ha2UgaXQgYXZhaWxhYmxlIGZvciB0aGUgbmV4dCBjYWxsCiAgLy8gdG8gdXBsb2FkRmlsZXNDb250aW51ZSBmcm9tIFB5dGhvbi4KICBvdXRwdXRFbGVtZW50LnN0ZXBzID0gc3RlcHM7CgogIHJldHVybiBfdXBsb2FkRmlsZXNDb250aW51ZShvdXRwdXRJZCk7Cn0KCi8vIFRoaXMgaXMgcm91Z2hseSBhbiBhc3luYyBnZW5lcmF0b3IgKG5vdCBzdXBwb3J0ZWQgaW4gdGhlIGJyb3dzZXIgeWV0KSwKLy8gd2hlcmUgdGhlcmUgYXJlIG11bHRpcGxlIGFzeW5jaHJvbm91cyBzdGVwcyBhbmQgdGhlIFB5dGhvbiBzaWRlIGlzIGdvaW5nCi8vIHRvIHBvbGwgZm9yIGNvbXBsZXRpb24gb2YgZWFjaCBzdGVwLgovLyBUaGlzIHVzZXMgYSBQcm9taXNlIHRvIGJsb2NrIHRoZSBweXRob24gc2lkZSBvbiBjb21wbGV0aW9uIG9mIGVhY2ggc3RlcCwKLy8gdGhlbiBwYXNzZXMgdGhlIHJlc3VsdCBvZiB0aGUgcHJldmlvdXMgc3RlcCBhcyB0aGUgaW5wdXQgdG8gdGhlIG5leHQgc3RlcC4KZnVuY3Rpb24gX3VwbG9hZEZpbGVzQ29udGludWUob3V0cHV0SWQpIHsKICBjb25zdCBvdXRwdXRFbGVtZW50ID0gZG9jdW1lbnQuZ2V0RWxlbWVudEJ5SWQob3V0cHV0SWQpOwogIGNvbnN0IHN0ZXBzID0gb3V0cHV0RWxlbWVudC5zdGVwczsKCiAgY29uc3QgbmV4dCA9IHN0ZXBzLm5leHQob3V0cHV0RWxlbWVudC5sYXN0UHJvbWlzZVZhbHVlKTsKICByZXR1cm4gUHJvbWlzZS5yZXNvbHZlKG5leHQudmFsdWUucHJvbWlzZSkudGhlbigodmFsdWUpID0+IHsKICAgIC8vIENhY2hlIHRoZSBsYXN0IHByb21pc2UgdmFsdWUgdG8gbWFrZSBpdCBhdmFpbGFibGUgdG8gdGhlIG5leHQKICAgIC8vIHN0ZXAgb2YgdGhlIGdlbmVyYXRvci4KICAgIG91dHB1dEVsZW1lbnQubGFzdFByb21pc2VWYWx1ZSA9IHZhbHVlOwogICAgcmV0dXJuIG5leHQudmFsdWUucmVzcG9uc2U7CiAgfSk7Cn0KCi8qKgogKiBHZW5lcmF0b3IgZnVuY3Rpb24gd2hpY2ggaXMgY2FsbGVkIGJldHdlZW4gZWFjaCBhc3luYyBzdGVwIG9mIHRoZSB1cGxvYWQKICogcHJvY2Vzcy4KICogQHBhcmFtIHtzdHJpbmd9IGlucHV0SWQgRWxlbWVudCBJRCBvZiB0aGUgaW5wdXQgZmlsZSBwaWNrZXIgZWxlbWVudC4KICogQHBhcmFtIHtzdHJpbmd9IG91dHB1dElkIEVsZW1lbnQgSUQgb2YgdGhlIG91dHB1dCBkaXNwbGF5LgogKiBAcmV0dXJuIHshSXRlcmFibGU8IU9iamVjdD59IEl0ZXJhYmxlIG9mIG5leHQgc3RlcHMuCiAqLwpmdW5jdGlvbiogdXBsb2FkRmlsZXNTdGVwKGlucHV0SWQsIG91dHB1dElkKSB7CiAgY29uc3QgaW5wdXRFbGVtZW50ID0gZG9jdW1lbnQuZ2V0RWxlbWVudEJ5SWQoaW5wdXRJZCk7CiAgaW5wdXRFbGVtZW50LmRpc2FibGVkID0gZmFsc2U7CgogIGNvbnN0IG91dHB1dEVsZW1lbnQgPSBkb2N1bWVudC5nZXRFbGVtZW50QnlJZChvdXRwdXRJZCk7CiAgb3V0cHV0RWxlbWVudC5pbm5lckhUTUwgPSAnJzsKCiAgY29uc3QgcGlja2VkUHJvbWlzZSA9IG5ldyBQcm9taXNlKChyZXNvbHZlKSA9PiB7CiAgICBpbnB1dEVsZW1lbnQuYWRkRXZlbnRMaXN0ZW5lcignY2hhbmdlJywgKGUpID0+IHsKICAgICAgcmVzb2x2ZShlLnRhcmdldC5maWxlcyk7CiAgICB9KTsKICB9KTsKCiAgY29uc3QgY2FuY2VsID0gZG9jdW1lbnQuY3JlYXRlRWxlbWVudCgnYnV0dG9uJyk7CiAgaW5wdXRFbGVtZW50LnBhcmVudEVsZW1lbnQuYXBwZW5kQ2hpbGQoY2FuY2VsKTsKICBjYW5jZWwudGV4dENvbnRlbnQgPSAnQ2FuY2VsIHVwbG9hZCc7CiAgY29uc3QgY2FuY2VsUHJvbWlzZSA9IG5ldyBQcm9taXNlKChyZXNvbHZlKSA9PiB7CiAgICBjYW5jZWwub25jbGljayA9ICgpID0+IHsKICAgICAgcmVzb2x2ZShudWxsKTsKICAgIH07CiAgfSk7CgogIC8vIENhbmNlbCB1cGxvYWQgaWYgdXNlciBoYXNuJ3QgcGlja2VkIGFueXRoaW5nIGluIHRpbWVvdXQuCiAgY29uc3QgdGltZW91dFByb21pc2UgPSBuZXcgUHJvbWlzZSgocmVzb2x2ZSkgPT4gewogICAgc2V0VGltZW91dCgoKSA9PiB7CiAgICAgIHJlc29sdmUobnVsbCk7CiAgICB9LCBGSUxFX0NIQU5HRV9USU1FT1VUX01TKTsKICB9KTsKCiAgLy8gV2FpdCBmb3IgdGhlIHVzZXIgdG8gcGljayB0aGUgZmlsZXMuCiAgY29uc3QgZmlsZXMgPSB5aWVsZCB7CiAgICBwcm9taXNlOiBQcm9taXNlLnJhY2UoW3BpY2tlZFByb21pc2UsIHRpbWVvdXRQcm9taXNlLCBjYW5jZWxQcm9taXNlXSksCiAgICByZXNwb25zZTogewogICAgICBhY3Rpb246ICdzdGFydGluZycsCiAgICB9CiAgfTsKCiAgaWYgKCFmaWxlcykgewogICAgcmV0dXJuIHsKICAgICAgcmVzcG9uc2U6IHsKICAgICAgICBhY3Rpb246ICdjb21wbGV0ZScsCiAgICAgIH0KICAgIH07CiAgfQoKICBjYW5jZWwucmVtb3ZlKCk7CgogIC8vIERpc2FibGUgdGhlIGlucHV0IGVsZW1lbnQgc2luY2UgZnVydGhlciBwaWNrcyBhcmUgbm90IGFsbG93ZWQuCiAgaW5wdXRFbGVtZW50LmRpc2FibGVkID0gdHJ1ZTsKCiAgZm9yIChjb25zdCBmaWxlIG9mIGZpbGVzKSB7CiAgICBjb25zdCBsaSA9IGRvY3VtZW50LmNyZWF0ZUVsZW1lbnQoJ2xpJyk7CiAgICBsaS5hcHBlbmQoc3BhbihmaWxlLm5hbWUsIHtmb250V2VpZ2h0OiAnYm9sZCd9KSk7CiAgICBsaS5hcHBlbmQoc3BhbigKICAgICAgICBgKCR7ZmlsZS50eXBlIHx8ICduL2EnfSkgLSAke2ZpbGUuc2l6ZX0gYnl0ZXMsIGAgKwogICAgICAgIGBsYXN0IG1vZGlmaWVkOiAkewogICAgICAgICAgICBmaWxlLmxhc3RNb2RpZmllZERhdGUgPyBmaWxlLmxhc3RNb2RpZmllZERhdGUudG9Mb2NhbGVEYXRlU3RyaW5nKCkgOgogICAgICAgICAgICAgICAgICAgICAgICAgICAgICAgICAgICAnbi9hJ30gLSBgKSk7CiAgICBjb25zdCBwZXJjZW50ID0gc3BhbignMCUgZG9uZScpOwogICAgbGkuYXBwZW5kQ2hpbGQocGVyY2VudCk7CgogICAgb3V0cHV0RWxlbWVudC5hcHBlbmRDaGlsZChsaSk7CgogICAgY29uc3QgZmlsZURhdGFQcm9taXNlID0gbmV3IFByb21pc2UoKHJlc29sdmUpID0+IHsKICAgICAgY29uc3QgcmVhZGVyID0gbmV3IEZpbGVSZWFkZXIoKTsKICAgICAgcmVhZGVyLm9ubG9hZCA9IChlKSA9PiB7CiAgICAgICAgcmVzb2x2ZShlLnRhcmdldC5yZXN1bHQpOwogICAgICB9OwogICAgICByZWFkZXIucmVhZEFzQXJyYXlCdWZmZXIoZmlsZSk7CiAgICB9KTsKICAgIC8vIFdhaXQgZm9yIHRoZSBkYXRhIHRvIGJlIHJlYWR5LgogICAgbGV0IGZpbGVEYXRhID0geWllbGQgewogICAgICBwcm9taXNlOiBmaWxlRGF0YVByb21pc2UsCiAgICAgIHJlc3BvbnNlOiB7CiAgICAgICAgYWN0aW9uOiAnY29udGludWUnLAogICAgICB9CiAgICB9OwoKICAgIC8vIFVzZSBhIGNodW5rZWQgc2VuZGluZyB0byBhdm9pZCBtZXNzYWdlIHNpemUgbGltaXRzLiBTZWUgYi82MjExNTY2MC4KICAgIGxldCBwb3NpdGlvbiA9IDA7CiAgICB3aGlsZSAocG9zaXRpb24gPCBmaWxlRGF0YS5ieXRlTGVuZ3RoKSB7CiAgICAgIGNvbnN0IGxlbmd0aCA9IE1hdGgubWluKGZpbGVEYXRhLmJ5dGVMZW5ndGggLSBwb3NpdGlvbiwgTUFYX1BBWUxPQURfU0laRSk7CiAgICAgIGNvbnN0IGNodW5rID0gbmV3IFVpbnQ4QXJyYXkoZmlsZURhdGEsIHBvc2l0aW9uLCBsZW5ndGgpOwogICAgICBwb3NpdGlvbiArPSBsZW5ndGg7CgogICAgICBjb25zdCBiYXNlNjQgPSBidG9hKFN0cmluZy5mcm9tQ2hhckNvZGUuYXBwbHkobnVsbCwgY2h1bmspKTsKICAgICAgeWllbGQgewogICAgICAgIHJlc3BvbnNlOiB7CiAgICAgICAgICBhY3Rpb246ICdhcHBlbmQnLAogICAgICAgICAgZmlsZTogZmlsZS5uYW1lLAogICAgICAgICAgZGF0YTogYmFzZTY0LAogICAgICAgIH0sCiAgICAgIH07CiAgICAgIHBlcmNlbnQudGV4dENvbnRlbnQgPQogICAgICAgICAgYCR7TWF0aC5yb3VuZCgocG9zaXRpb24gLyBmaWxlRGF0YS5ieXRlTGVuZ3RoKSAqIDEwMCl9JSBkb25lYDsKICAgIH0KICB9CgogIC8vIEFsbCBkb25lLgogIHlpZWxkIHsKICAgIHJlc3BvbnNlOiB7CiAgICAgIGFjdGlvbjogJ2NvbXBsZXRlJywKICAgIH0KICB9Owp9CgpzY29wZS5nb29nbGUgPSBzY29wZS5nb29nbGUgfHwge307CnNjb3BlLmdvb2dsZS5jb2xhYiA9IHNjb3BlLmdvb2dsZS5jb2xhYiB8fCB7fTsKc2NvcGUuZ29vZ2xlLmNvbGFiLl9maWxlcyA9IHsKICBfdXBsb2FkRmlsZXMsCiAgX3VwbG9hZEZpbGVzQ29udGludWUsCn07Cn0pKHNlbGYpOwo=",
              "ok": true,
              "headers": [
                [
                  "content-type",
                  "application/javascript"
                ]
              ],
              "status": 200,
              "status_text": ""
            }
          },
          "base_uri": "https://localhost:8080/",
          "height": 74
        },
        "outputId": "c17e7440-797e-414e-d321-28e9f4d24e72"
      },
      "source": [
        "from google.colab import files\n",
        "uploaded = files.upload()"
      ],
      "execution_count": 4,
      "outputs": [
        {
          "output_type": "display_data",
          "data": {
            "text/html": [
              "\n",
              "     <input type=\"file\" id=\"files-26004159-ed33-40df-8f19-1eb5d8c6d48d\" name=\"files[]\" multiple disabled />\n",
              "     <output id=\"result-26004159-ed33-40df-8f19-1eb5d8c6d48d\">\n",
              "      Upload widget is only available when the cell has been executed in the\n",
              "      current browser session. Please rerun this cell to enable.\n",
              "      </output>\n",
              "      <script src=\"/nbextensions/google.colab/files.js\"></script> "
            ],
            "text/plain": [
              "<IPython.core.display.HTML object>"
            ]
          },
          "metadata": {
            "tags": []
          }
        },
        {
          "output_type": "stream",
          "text": [
            "Saving btl.zip to btl.zip\n"
          ],
          "name": "stdout"
        }
      ]
    },
    {
      "cell_type": "code",
      "metadata": {
        "id": "gjqK8YB6dWDO",
        "colab_type": "code",
        "colab": {
          "base_uri": "https://localhost:8080/",
          "height": 34
        },
        "outputId": "22165948-a140-4f6e-f0f3-41b6e744f63d"
      },
      "source": [
        "!pwd"
      ],
      "execution_count": 5,
      "outputs": [
        {
          "output_type": "stream",
          "text": [
            "/content\n"
          ],
          "name": "stdout"
        }
      ]
    },
    {
      "cell_type": "code",
      "metadata": {
        "id": "yeKdLJbpeBqO",
        "colab_type": "code",
        "colab": {
          "base_uri": "https://localhost:8080/",
          "height": 1000
        },
        "outputId": "b7611ef2-79ea-4f14-aebc-c97fd165bb4f"
      },
      "source": [
        "import zipfile\n",
        "import io\n",
        "data= zipfile.ZipFile(io.BytesIO(uploaded['btl.zip']),'r')\n",
        "data.extractall()\n",
        "\n",
        "import cv2 as cv \n",
        "import cv2\n",
        "import numpy as np\n",
        "import os\n",
        "import matplotlib.pyplot as plt\n",
        "\n",
        "\n",
        "ruta_btl=\"/content/btl\"\n",
        "botellas_trainig=[]\n",
        "img_size=80\n",
        "\n",
        "##conjuto de datos que representa cada imagen\n",
        "\n",
        "for img in os.listdir(ruta_btl):\n",
        "  img = cv2.imread(os.path.join(ruta_btl,img))\n",
        "  img_gray = cv2.cvtColor(img,cv2.COLOR_BGR2GRAY)\n",
        "  img_gray_resize =cv2.resize(img_gray,(img_size,img_size))\n",
        "  botellas_trainig.append([ img_gray_resize])\n",
        "\n",
        "  print(len(botellas_trainig))\n",
        "  print(botellas_trainig)\n",
        "\n",
        "\n"
      ],
      "execution_count": 52,
      "outputs": [
        {
          "output_type": "stream",
          "text": [
            "1\n",
            "[[array([[ 17,  17,  16, ...,  21,  22,  21],\n",
            "       [ 17,  17,  17, ...,  19,  20,  19],\n",
            "       [ 17,  17,  18, ...,  16,  17,  17],\n",
            "       ...,\n",
            "       [ 69,  46,  39, ..., 173, 178, 177],\n",
            "       [ 64,  42,  34, ..., 171, 178, 178],\n",
            "       [ 59,  45,  41, ..., 166, 168, 174]], dtype=uint8)]]\n",
            "2\n",
            "[[array([[ 17,  17,  16, ...,  21,  22,  21],\n",
            "       [ 17,  17,  17, ...,  19,  20,  19],\n",
            "       [ 17,  17,  18, ...,  16,  17,  17],\n",
            "       ...,\n",
            "       [ 69,  46,  39, ..., 173, 178, 177],\n",
            "       [ 64,  42,  34, ..., 171, 178, 178],\n",
            "       [ 59,  45,  41, ..., 166, 168, 174]], dtype=uint8)], [array([[141, 143, 145, ..., 209, 209, 210],\n",
            "       [142, 144, 146, ..., 209, 209, 209],\n",
            "       [143, 146, 147, ..., 209, 209, 209],\n",
            "       ...,\n",
            "       [  7,  13,  14, ...,   5,   6,   6],\n",
            "       [  7,   9,  15, ...,   3,   4,   5],\n",
            "       [  7,   4,   7, ...,   1,   2,   2]], dtype=uint8)]]\n",
            "3\n",
            "[[array([[ 17,  17,  16, ...,  21,  22,  21],\n",
            "       [ 17,  17,  17, ...,  19,  20,  19],\n",
            "       [ 17,  17,  18, ...,  16,  17,  17],\n",
            "       ...,\n",
            "       [ 69,  46,  39, ..., 173, 178, 177],\n",
            "       [ 64,  42,  34, ..., 171, 178, 178],\n",
            "       [ 59,  45,  41, ..., 166, 168, 174]], dtype=uint8)], [array([[141, 143, 145, ..., 209, 209, 210],\n",
            "       [142, 144, 146, ..., 209, 209, 209],\n",
            "       [143, 146, 147, ..., 209, 209, 209],\n",
            "       ...,\n",
            "       [  7,  13,  14, ...,   5,   6,   6],\n",
            "       [  7,   9,  15, ...,   3,   4,   5],\n",
            "       [  7,   4,   7, ...,   1,   2,   2]], dtype=uint8)], [array([[  3,   8,  48, ..., 125, 175, 167],\n",
            "       [  2,   4, 114, ...,  94, 112,  60],\n",
            "       [ 37,  15,  15, ...,  78,  28,  30],\n",
            "       ...,\n",
            "       [ 68, 130, 138, ...,   3,  99,  13],\n",
            "       [180,  31, 110, ...,  27,  43,  49],\n",
            "       [181, 139, 124, ...,   0, 195, 140]], dtype=uint8)]]\n",
            "4\n",
            "[[array([[ 17,  17,  16, ...,  21,  22,  21],\n",
            "       [ 17,  17,  17, ...,  19,  20,  19],\n",
            "       [ 17,  17,  18, ...,  16,  17,  17],\n",
            "       ...,\n",
            "       [ 69,  46,  39, ..., 173, 178, 177],\n",
            "       [ 64,  42,  34, ..., 171, 178, 178],\n",
            "       [ 59,  45,  41, ..., 166, 168, 174]], dtype=uint8)], [array([[141, 143, 145, ..., 209, 209, 210],\n",
            "       [142, 144, 146, ..., 209, 209, 209],\n",
            "       [143, 146, 147, ..., 209, 209, 209],\n",
            "       ...,\n",
            "       [  7,  13,  14, ...,   5,   6,   6],\n",
            "       [  7,   9,  15, ...,   3,   4,   5],\n",
            "       [  7,   4,   7, ...,   1,   2,   2]], dtype=uint8)], [array([[  3,   8,  48, ..., 125, 175, 167],\n",
            "       [  2,   4, 114, ...,  94, 112,  60],\n",
            "       [ 37,  15,  15, ...,  78,  28,  30],\n",
            "       ...,\n",
            "       [ 68, 130, 138, ...,   3,  99,  13],\n",
            "       [180,  31, 110, ...,  27,  43,  49],\n",
            "       [181, 139, 124, ...,   0, 195, 140]], dtype=uint8)], [array([[175, 174, 175, ..., 132, 131, 130],\n",
            "       [174, 174, 174, ..., 131, 130, 130],\n",
            "       [175, 173, 173, ..., 129, 130, 130],\n",
            "       ...,\n",
            "       [ 58,  50,  58, ...,  51,  38,  37],\n",
            "       [ 59,  60,  55, ...,  50,  48,  41],\n",
            "       [ 57,  48,  53, ...,  46,  51,  42]], dtype=uint8)]]\n",
            "5\n",
            "[[array([[ 17,  17,  16, ...,  21,  22,  21],\n",
            "       [ 17,  17,  17, ...,  19,  20,  19],\n",
            "       [ 17,  17,  18, ...,  16,  17,  17],\n",
            "       ...,\n",
            "       [ 69,  46,  39, ..., 173, 178, 177],\n",
            "       [ 64,  42,  34, ..., 171, 178, 178],\n",
            "       [ 59,  45,  41, ..., 166, 168, 174]], dtype=uint8)], [array([[141, 143, 145, ..., 209, 209, 210],\n",
            "       [142, 144, 146, ..., 209, 209, 209],\n",
            "       [143, 146, 147, ..., 209, 209, 209],\n",
            "       ...,\n",
            "       [  7,  13,  14, ...,   5,   6,   6],\n",
            "       [  7,   9,  15, ...,   3,   4,   5],\n",
            "       [  7,   4,   7, ...,   1,   2,   2]], dtype=uint8)], [array([[  3,   8,  48, ..., 125, 175, 167],\n",
            "       [  2,   4, 114, ...,  94, 112,  60],\n",
            "       [ 37,  15,  15, ...,  78,  28,  30],\n",
            "       ...,\n",
            "       [ 68, 130, 138, ...,   3,  99,  13],\n",
            "       [180,  31, 110, ...,  27,  43,  49],\n",
            "       [181, 139, 124, ...,   0, 195, 140]], dtype=uint8)], [array([[175, 174, 175, ..., 132, 131, 130],\n",
            "       [174, 174, 174, ..., 131, 130, 130],\n",
            "       [175, 173, 173, ..., 129, 130, 130],\n",
            "       ...,\n",
            "       [ 58,  50,  58, ...,  51,  38,  37],\n",
            "       [ 59,  60,  55, ...,  50,  48,  41],\n",
            "       [ 57,  48,  53, ...,  46,  51,  42]], dtype=uint8)], [array([[187, 185, 182, ..., 186, 187, 187],\n",
            "       [184, 182, 180, ..., 185, 186, 186],\n",
            "       [179, 178, 176, ..., 184, 184, 185],\n",
            "       ...,\n",
            "       [128, 136, 138, ..., 113,  65,  67],\n",
            "       [128, 130, 143, ..., 127, 110,  92],\n",
            "       [127, 138, 135, ..., 121,  80,  96]], dtype=uint8)]]\n",
            "6\n",
            "[[array([[ 17,  17,  16, ...,  21,  22,  21],\n",
            "       [ 17,  17,  17, ...,  19,  20,  19],\n",
            "       [ 17,  17,  18, ...,  16,  17,  17],\n",
            "       ...,\n",
            "       [ 69,  46,  39, ..., 173, 178, 177],\n",
            "       [ 64,  42,  34, ..., 171, 178, 178],\n",
            "       [ 59,  45,  41, ..., 166, 168, 174]], dtype=uint8)], [array([[141, 143, 145, ..., 209, 209, 210],\n",
            "       [142, 144, 146, ..., 209, 209, 209],\n",
            "       [143, 146, 147, ..., 209, 209, 209],\n",
            "       ...,\n",
            "       [  7,  13,  14, ...,   5,   6,   6],\n",
            "       [  7,   9,  15, ...,   3,   4,   5],\n",
            "       [  7,   4,   7, ...,   1,   2,   2]], dtype=uint8)], [array([[  3,   8,  48, ..., 125, 175, 167],\n",
            "       [  2,   4, 114, ...,  94, 112,  60],\n",
            "       [ 37,  15,  15, ...,  78,  28,  30],\n",
            "       ...,\n",
            "       [ 68, 130, 138, ...,   3,  99,  13],\n",
            "       [180,  31, 110, ...,  27,  43,  49],\n",
            "       [181, 139, 124, ...,   0, 195, 140]], dtype=uint8)], [array([[175, 174, 175, ..., 132, 131, 130],\n",
            "       [174, 174, 174, ..., 131, 130, 130],\n",
            "       [175, 173, 173, ..., 129, 130, 130],\n",
            "       ...,\n",
            "       [ 58,  50,  58, ...,  51,  38,  37],\n",
            "       [ 59,  60,  55, ...,  50,  48,  41],\n",
            "       [ 57,  48,  53, ...,  46,  51,  42]], dtype=uint8)], [array([[187, 185, 182, ..., 186, 187, 187],\n",
            "       [184, 182, 180, ..., 185, 186, 186],\n",
            "       [179, 178, 176, ..., 184, 184, 185],\n",
            "       ...,\n",
            "       [128, 136, 138, ..., 113,  65,  67],\n",
            "       [128, 130, 143, ..., 127, 110,  92],\n",
            "       [127, 138, 135, ..., 121,  80,  96]], dtype=uint8)], [array([[216, 219, 207, ..., 224, 213, 192],\n",
            "       [212, 222, 221, ..., 253, 250, 226],\n",
            "       [217, 226, 229, ..., 252, 252, 251],\n",
            "       ...,\n",
            "       [ 66, 109, 177, ..., 157, 126, 121],\n",
            "       [ 90,  77, 132, ..., 131,  89, 124],\n",
            "       [ 59,  59,  75, ..., 101, 124,  86]], dtype=uint8)]]\n",
            "7\n",
            "[[array([[ 17,  17,  16, ...,  21,  22,  21],\n",
            "       [ 17,  17,  17, ...,  19,  20,  19],\n",
            "       [ 17,  17,  18, ...,  16,  17,  17],\n",
            "       ...,\n",
            "       [ 69,  46,  39, ..., 173, 178, 177],\n",
            "       [ 64,  42,  34, ..., 171, 178, 178],\n",
            "       [ 59,  45,  41, ..., 166, 168, 174]], dtype=uint8)], [array([[141, 143, 145, ..., 209, 209, 210],\n",
            "       [142, 144, 146, ..., 209, 209, 209],\n",
            "       [143, 146, 147, ..., 209, 209, 209],\n",
            "       ...,\n",
            "       [  7,  13,  14, ...,   5,   6,   6],\n",
            "       [  7,   9,  15, ...,   3,   4,   5],\n",
            "       [  7,   4,   7, ...,   1,   2,   2]], dtype=uint8)], [array([[  3,   8,  48, ..., 125, 175, 167],\n",
            "       [  2,   4, 114, ...,  94, 112,  60],\n",
            "       [ 37,  15,  15, ...,  78,  28,  30],\n",
            "       ...,\n",
            "       [ 68, 130, 138, ...,   3,  99,  13],\n",
            "       [180,  31, 110, ...,  27,  43,  49],\n",
            "       [181, 139, 124, ...,   0, 195, 140]], dtype=uint8)], [array([[175, 174, 175, ..., 132, 131, 130],\n",
            "       [174, 174, 174, ..., 131, 130, 130],\n",
            "       [175, 173, 173, ..., 129, 130, 130],\n",
            "       ...,\n",
            "       [ 58,  50,  58, ...,  51,  38,  37],\n",
            "       [ 59,  60,  55, ...,  50,  48,  41],\n",
            "       [ 57,  48,  53, ...,  46,  51,  42]], dtype=uint8)], [array([[187, 185, 182, ..., 186, 187, 187],\n",
            "       [184, 182, 180, ..., 185, 186, 186],\n",
            "       [179, 178, 176, ..., 184, 184, 185],\n",
            "       ...,\n",
            "       [128, 136, 138, ..., 113,  65,  67],\n",
            "       [128, 130, 143, ..., 127, 110,  92],\n",
            "       [127, 138, 135, ..., 121,  80,  96]], dtype=uint8)], [array([[216, 219, 207, ..., 224, 213, 192],\n",
            "       [212, 222, 221, ..., 253, 250, 226],\n",
            "       [217, 226, 229, ..., 252, 252, 251],\n",
            "       ...,\n",
            "       [ 66, 109, 177, ..., 157, 126, 121],\n",
            "       [ 90,  77, 132, ..., 131,  89, 124],\n",
            "       [ 59,  59,  75, ..., 101, 124,  86]], dtype=uint8)], [array([[ 41,  53,  52, ...,  20,  27,  34],\n",
            "       [ 74,  55,  99, ...,  25,  22,  44],\n",
            "       [ 66,  46,  49, ...,  11,  10,  44],\n",
            "       ...,\n",
            "       [ 19,  53,  29, ..., 100,  37,  38],\n",
            "       [ 24,  37,   8, ..., 106,  32,   5],\n",
            "       [ 75,  27,  64, ...,  20,  43, 166]], dtype=uint8)]]\n",
            "8\n",
            "[[array([[ 17,  17,  16, ...,  21,  22,  21],\n",
            "       [ 17,  17,  17, ...,  19,  20,  19],\n",
            "       [ 17,  17,  18, ...,  16,  17,  17],\n",
            "       ...,\n",
            "       [ 69,  46,  39, ..., 173, 178, 177],\n",
            "       [ 64,  42,  34, ..., 171, 178, 178],\n",
            "       [ 59,  45,  41, ..., 166, 168, 174]], dtype=uint8)], [array([[141, 143, 145, ..., 209, 209, 210],\n",
            "       [142, 144, 146, ..., 209, 209, 209],\n",
            "       [143, 146, 147, ..., 209, 209, 209],\n",
            "       ...,\n",
            "       [  7,  13,  14, ...,   5,   6,   6],\n",
            "       [  7,   9,  15, ...,   3,   4,   5],\n",
            "       [  7,   4,   7, ...,   1,   2,   2]], dtype=uint8)], [array([[  3,   8,  48, ..., 125, 175, 167],\n",
            "       [  2,   4, 114, ...,  94, 112,  60],\n",
            "       [ 37,  15,  15, ...,  78,  28,  30],\n",
            "       ...,\n",
            "       [ 68, 130, 138, ...,   3,  99,  13],\n",
            "       [180,  31, 110, ...,  27,  43,  49],\n",
            "       [181, 139, 124, ...,   0, 195, 140]], dtype=uint8)], [array([[175, 174, 175, ..., 132, 131, 130],\n",
            "       [174, 174, 174, ..., 131, 130, 130],\n",
            "       [175, 173, 173, ..., 129, 130, 130],\n",
            "       ...,\n",
            "       [ 58,  50,  58, ...,  51,  38,  37],\n",
            "       [ 59,  60,  55, ...,  50,  48,  41],\n",
            "       [ 57,  48,  53, ...,  46,  51,  42]], dtype=uint8)], [array([[187, 185, 182, ..., 186, 187, 187],\n",
            "       [184, 182, 180, ..., 185, 186, 186],\n",
            "       [179, 178, 176, ..., 184, 184, 185],\n",
            "       ...,\n",
            "       [128, 136, 138, ..., 113,  65,  67],\n",
            "       [128, 130, 143, ..., 127, 110,  92],\n",
            "       [127, 138, 135, ..., 121,  80,  96]], dtype=uint8)], [array([[216, 219, 207, ..., 224, 213, 192],\n",
            "       [212, 222, 221, ..., 253, 250, 226],\n",
            "       [217, 226, 229, ..., 252, 252, 251],\n",
            "       ...,\n",
            "       [ 66, 109, 177, ..., 157, 126, 121],\n",
            "       [ 90,  77, 132, ..., 131,  89, 124],\n",
            "       [ 59,  59,  75, ..., 101, 124,  86]], dtype=uint8)], [array([[ 41,  53,  52, ...,  20,  27,  34],\n",
            "       [ 74,  55,  99, ...,  25,  22,  44],\n",
            "       [ 66,  46,  49, ...,  11,  10,  44],\n",
            "       ...,\n",
            "       [ 19,  53,  29, ..., 100,  37,  38],\n",
            "       [ 24,  37,   8, ..., 106,  32,   5],\n",
            "       [ 75,  27,  64, ...,  20,  43, 166]], dtype=uint8)], [array([[ 86, 109, 119, ..., 150, 189, 134],\n",
            "       [131,  67,  52, ..., 124, 150,  96],\n",
            "       [153,  98,  55, ..., 110,  94, 100],\n",
            "       ...,\n",
            "       [ 44,  49,  55, ...,  38,  23,  38],\n",
            "       [ 42,  47,  53, ...,  35,  23,  29],\n",
            "       [ 38,  43,  49, ...,  41,  29,  24]], dtype=uint8)]]\n"
          ],
          "name": "stdout"
        }
      ]
    },
    {
      "cell_type": "code",
      "metadata": {
        "id": "7087LcuzfgOl",
        "colab_type": "code",
        "colab": {
          "base_uri": "https://localhost:8080/",
          "height": 267
        },
        "outputId": "d61713d9-9157-472c-96cb-9f3040656c13"
      },
      "source": [
        "plt.figure()\n",
        "plt.imshow(np.squeeze(botellas_trainig[0]))\n",
        "plt.gray()\n",
        "plt.grid(True)\n",
        "plt.show()\n"
      ],
      "execution_count": 57,
      "outputs": [
        {
          "output_type": "display_data",
          "data": {
            "image/png": "[encoded data removed]",
            "text/plain": [
              "<Figure size 432x288 with 1 Axes>"
            ]
          },
          "metadata": {
            "tags": [],
            "needs_background": "light"
          }
        }
      ]
    }
  ]
}